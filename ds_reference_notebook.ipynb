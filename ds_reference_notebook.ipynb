{
 "cells": [
  {
   "cell_type": "markdown",
   "metadata": {},
   "source": [
    "### Quick Imports"
   ]
  },
  {
   "cell_type": "code",
   "execution_count": null,
   "metadata": {
    "collapsed": true,
    "id": "zorywVgCmHSi"
   },
   "outputs": [],
   "source": [
    "import pandas as pd\n",
    "import numpy as np\n",
    "import matplotlib.pyplot as plt\n",
    "import seaborn as sns"
   ]
  },
  {
   "cell_type": "markdown",
   "metadata": {
    "id": "GHzdtT1XmOYm"
   },
   "source": [
    "### Data Inspection"
   ]
  },
  {
   "cell_type": "code",
   "execution_count": null,
   "metadata": {
    "collapsed": true,
    "id": "07PooIRKmJy3"
   },
   "outputs": [],
   "source": [
    "# first 10 rows and last 10 rows for inspection\n",
    "data.head(10)\n",
    "data.tail(10)\n",
    "\n",
    "# column names\n",
    "data.columns\n",
    "\n",
    "# column data types\n",
    "data.dtypes\n",
    "\n",
    "# type casting if necessary \n",
    "data['col'] = data['col'].astype(str)\n",
    "data['col'] = data['col'].astype(int)\n",
    "data['col'] = data['col'].astype(float)\n",
    "\n",
    "# num rows, num cols, num null and non-null, variable names\n",
    "data.info()\n",
    "\n",
    "# distribution of continuous\n",
    "data.describe(percentiles=[0.01, 0.05, 0.1, 0.25, 0.5, 0.75, 0.9, 0.95, 0.99])\n",
    "\n",
    "# data cardinality\n",
    "data.nunique()\n",
    "\n",
    "# feature value counts\n",
    "data['col'].value_counts()\n",
    "\n",
    "# check null\n",
    "data.isnull().sum()\n",
    "data.isnull().mean() \n",
    "\n",
    "# check or drop duplicates\n",
    "data[data.duplicated()].shape"
   ]
  },
  {
   "cell_type": "markdown",
   "metadata": {
    "id": "G57FSYV6Jq99"
   },
   "source": [
    "### EDA Graphing"
   ]
  },
  {
   "cell_type": "code",
   "execution_count": null,
   "metadata": {
    "collapsed": true
   },
   "outputs": [],
   "source": [
    "# pairwise correlation plots \n",
    "sns.heatmap(data.corr(), square=True, annot=True)\n",
    "\n",
    "# visualize nulls \n",
    "sns.heatmap(data.sample(1000).isnull())\n",
    "\n",
    "# pairwise comparison (and histogram when row = col)\n",
    "pd.plotting.scatter_matrix(data, figsize=(15, 10))\n",
    "\n",
    "# scatterplot with semi transparency for many dense data points\n",
    "sns.scatterplot(x='col1',y='col2', data=data, alpha = 0.3)\n",
    "\n",
    "# hexplots \n",
    "sns.jointplot(x='col1', y='col2', kind='hex')\n",
    "\n",
    "# boxplots\n",
    "sns.boxplot(x='col1', y='col2', data=data)\n",
    "\n",
    "# countplots\n",
    "sns.countplot(x='col1', y='col2', data=data)\n",
    "\n",
    "# historgram of features by class in classification \n",
    "sns.histplot(data=data, x='col', hue='class')\n",
    "\n",
    "# density plot (similar to histogram but smoother)\n",
    "data.plot.density()\n"
   ]
  },
  {
   "cell_type": "markdown",
   "metadata": {
    "id": "du5FkVzOmyew"
   },
   "source": [
    "### Data Cleaning "
   ]
  },
  {
   "cell_type": "code",
   "execution_count": null,
   "metadata": {
    "collapsed": true,
    "id": "Rukh7ZU-m1RW"
   },
   "outputs": [],
   "source": [
    "# imputation\n",
    "data = data.fillna(data.mean()) \n",
    "data = data.fillna(data.mode()) \n",
    "data.loc[(data.col > 100), 'col'] = 100 # generic replace\n",
    "\n",
    "# dropping duplicates and null columns\n",
    "data = data.drop_duplicates()\n",
    "data = data.dropna()\n",
    "\n",
    "\n",
    "# outlier clipping: by percentile \n",
    "def percentile_clip(x, low_bound, high_bound): \n",
    "    low_clip = x.quantile(low_bound)\n",
    "    high_clip = x.quantile(high_bound)\n",
    "\n",
    "    return x.clip(low_clip, high_clip)\n",
    "\n",
    "\n",
    "# outlier clipping: +/- 3 stdevs from mean\n",
    "def three_std_clip(x): \n",
    "    mean = np.mean(x)\n",
    "    std = np.std(x)\n",
    "\n",
    "    low_clip = mean - 3*std\n",
    "    high_clip = mean + 3*std\n",
    "\n",
    "    return x.clip(low_clip, high_clip)\n",
    "  \n",
    "    \n",
    "# outlier clipping: +/- 1.5 IQRs\n",
    "def IQR_clip(x): \n",
    "    q1 = x.quantile(.25)\n",
    "    q3 = x.quantile(.75)\n",
    "    \n",
    "    IQR = q3-q1\n",
    "    low_clip = q1-(1.5*IQR)\n",
    "    high_clip = q3+(1.5*IQR)\n",
    "\n",
    "    return x.clip(low_clip, high_clip)"
   ]
  },
  {
   "cell_type": "markdown",
   "metadata": {},
   "source": [
    "### Data Transformation"
   ]
  },
  {
   "cell_type": "code",
   "execution_count": null,
   "metadata": {
    "collapsed": true,
    "id": "vj3GDXAYTukX"
   },
   "outputs": [],
   "source": [
    "from sklearn.preprocessing import PolynomialFeatures, Binarizer, StandardScaler, MinMaxScaler, OneHotEncoder\n",
    "\n",
    "# feature indexing based on types\n",
    "continuous = data.select_dtypes(include=[np.number]).columns # all continuous columns\n",
    "categorical = data.select_dtypes(exclude=[np.number]).columns # all categorical columns\n",
    "\n",
    "# generate up to n degree of polynomial terms and interaction terms\n",
    "data[continuous] = PolynomialFeatures(degree=3, include_bias=False).fit_transform(features)\n",
    "\n",
    "# standardization and normalization\n",
    "data[continuous] = StandardScaler().fit_transform(data[continuous])\n",
    "data[continious] = MinMaxScalar().fit_transform(data[continuous])\n",
    "\n",
    "# binarization (threshold is what to use to binarize)\n",
    "data[continuous] = Binarizer(threshold=1).fit_transformer()\n",
    "\n",
    "# one hot encoding \n",
    "data[categorical] = OneHotEncoder(drop='first').fit_transform(data[categorical])\n",
    "\n",
    "# normalization, standardization, clipping\n",
    "data = (data-data.mean())/data.std() \n",
    "data = (data-data.min())/(data.max()-data.min())\n",
    "data = data.clip(min, max)\n",
    "\n",
    "# alternate one hot encoding with drop_first (# likely want to include \"drop_first=True\" https://towardsdatascience.com/beware-of-the-dummy-variable-trap-in-pandas-727e8e6b8bde)\n",
    "pd.get_dummies(df, drop_first=True)\n",
    "\n",
    "# binarization\n",
    "data[label] = (data[label] == 'category') * 1.0\n",
    "\n",
    "# sampling:\n",
    "data.sample(1000) # down-sample\n",
    "data.sample(20000, replace=True) # up-sample\n"
   ]
  },
  {
   "cell_type": "markdown",
   "metadata": {},
   "source": [
    "### Model Fitting "
   ]
  },
  {
   "cell_type": "code",
   "execution_count": null,
   "metadata": {
    "collapsed": true
   },
   "outputs": [],
   "source": [
    "# Imports \n",
    "from sklearn.linear_model import LinearRegression, Lasso, Ridge, ElasticNet, LogisticRegression\n",
    "from xgboost import XGBRegressor, XGBClassifier\n",
    "from sklearn.tree import DecisionTreeClassifier\n",
    "from sklearn.ensemble import RandomForestRegressor, RandomForestClassifier, GradientBoostingClassifier\n",
    "from sklearn.neighbors import KNeighborsClassifier\n",
    "\n",
    "\n",
    "# Instantiate\n",
    "linreg = LinearRegression()\n",
    "logreg = LogisticRegression()\n",
    "lasso = Lasso(alpha=0.5) # alpha=0 is OLS\n",
    "ridge = Ridge(alpha=0.5) # alpha=0 is OLS \n",
    "en = ElasticNet(alpha=0.5, l1_ratio=1) # alpha=0 is OLS, l1_ratio=0 is Ridge \n",
    "xgbr = XGBRegressor(n_estimators=1000, max_depth=7, eta=0.1, subsample=0.7, colsample_bytree=0.8)\n",
    "xgbc = XGBClassifier(n_estimators=100, max_depth=10,, eta=0.1, reg_alpha=0, reg_lambda=1, colsample_bylevel=1, colsample_bytree=1, gamma=0)\n",
    "dtc = DecisionTreeClassifier(criterion='gini', max_depth=5, min_samples_split=2, min_samples_leaf=1)\n",
    "rfr = RandomForestRegressor(n_estimators=100, max_depth=10)\n",
    "rfc = RandomForestClassifier(n_estimators=100, max_depth=10)\n",
    "gbc = GradientBoostingClassifier(loss='log_loss', learning_rate=.1, n_estimators=100, max_depth=10, sub_sample=.8)\n",
    "kn = KNeighborsClassifier(n_neighbors=10, weights='uniform', algorithm='auto')\n"
   ]
  },
  {
   "cell_type": "code",
   "execution_count": null,
   "metadata": {
    "collapsed": true
   },
   "outputs": [],
   "source": [
    "# simple grid search \n",
    "from sklearn.model_selection import GridSearchCV\n",
    "\n",
    "param_grid = { \n",
    "    'n_estimators': [200, 300, 400],\n",
    "    'max_depth' : [3, 5, 7]\n",
    "}\n",
    "\n",
    "grid_search = sklearn.model_selection.GridSearchCV(estimator=rfc, \n",
    "                                                   param_grid=param_grid, \n",
    "                                                   cv= 5, \n",
    "                                                   verbose=2)\n",
    "grid_search.fit(X, y)\n",
    "\n",
    "# display best parameters and best score\n",
    "print(\"Best parameters: {}\".format(grid_search.best_params_))\n",
    "print(\"Best cross-validation score: {:.2f}\".format(grid_search.best_score_))\n",
    "\n",
    "# build model with best paremeters\n",
    "best_rfc = RandomForestClassifier(**grid_search.best_params_).fit(X, y)"
   ]
  },
  {
   "cell_type": "code",
   "execution_count": null,
   "metadata": {
    "collapsed": true
   },
   "outputs": [],
   "source": [
    "from sklearn.model_selection import train_test_split\n",
    "X_train, X_test, y_train, y_test = train_test_split(X, y, test_size=0.25, random_state = 2)\n",
    "\n",
    "# training and predictions\n",
    "model.fit(X_train, y_train)\n",
    "y_pred = model.predict(X_test)"
   ]
  },
  {
   "cell_type": "code",
   "execution_count": null,
   "metadata": {
    "collapsed": true
   },
   "outputs": [],
   "source": [
    "from sklearn.metrics import mean_squared_error, median_absolute_error, r2_score\n",
    "from sklearn.metrics import accuracy_score, precision_score, recall_score, roc_auc_score, f1_score, plot_roc_curve\n",
    "\n",
    "# regression \n",
    "r2_score(y_test, y_pred)\n",
    "mean_squared_error(y_test, y_pred)\n",
    "mean_absolute_error(y_test, y_pred)\n",
    "\n",
    "# classification\n",
    "accuracy_score(y_test, y_pred)\n",
    "precision_score(y_test, y_pred)\n",
    "recall_score(y_test, y_pred)\n",
    "roc_auc_score(y_test, y_pred)\n",
    "f1_score(y_test, y_pred)\n",
    "plot_roc_curve(model, X_test, y_test) "
   ]
  },
  {
   "cell_type": "code",
   "execution_count": null,
   "metadata": {
    "collapsed": true,
    "id": "LINW8Ow3ZSuB"
   },
   "outputs": [],
   "source": [
    "# linear / logistic regression pull coefficients \n",
    "import statsmodels.api as sm\n",
    "\n",
    "X = add_constant(X)                        # add intercept \n",
    "model = sm.OLS(y_train, X_train).fit()     # linear regression\n",
    "model = sm.Logit(y_train, X_train).fit()   # logistic regression\n",
    "model.predict(X_test)\n",
    "\n",
    "print(model.summary())               # show summary \n",
    "p_vals = pd.DataFrame(model.pvalues) # pull p-values \n",
    "coefs = pd.DataFrame(model.params)   # pull coefficients "
   ]
  },
  {
   "cell_type": "code",
   "execution_count": null,
   "metadata": {
    "collapsed": true,
    "id": "PkAA2P4f9ViS"
   },
   "outputs": [],
   "source": [
    "# random forest pull feature importance \n",
    "from sklearn.ensemble import RandomForestClassifier\n",
    "\n",
    "rf = RandomForestClassifier(random_state=0)\n",
    "rf.fit(X, y)\n",
    "\n",
    "feat_importance_dict = {'feature': X.columns, \n",
    "                        'importance': rf.feature_importances_}\n",
    "\n",
    "pd.DataFrame(feat_importance_dict)"
   ]
  },
  {
   "cell_type": "markdown",
   "metadata": {
    "id": "ZD3YKPrnofyu"
   },
   "source": [
    "### Unsupervised Learning"
   ]
  },
  {
   "cell_type": "code",
   "execution_count": null,
   "metadata": {
    "collapsed": true,
    "id": "i7RO83N6oijv"
   },
   "outputs": [],
   "source": [
    "from sklearn.decomposition import PCA\n",
    "\n",
    "# PCA\n",
    "pca = PCA(n_components=2).fit(X)\n",
    "X_pca = pca.fit_transform(X)\n",
    "\n",
    "# PCA plot\n",
    "plt.figure(figsize=(20,15))\n",
    "plt.scatter(X_pca[:,0], X_pca[:,1])\n",
    "plt.show()\n",
    "\n",
    "# PCA plot with label\n",
    "plt.figure(figsize=(20,15))\n",
    "plt.scatter(X_pca[:,0], X_pca[:,1], c=y)\n",
    "plt.show()"
   ]
  },
  {
   "cell_type": "code",
   "execution_count": null,
   "metadata": {
    "collapsed": true,
    "id": "PO5sQkdeHPRO"
   },
   "outputs": [],
   "source": [
    "from sklearn.cluster import KMeans\n",
    "\n",
    "# Elbow Method\n",
    "num_clusters_to_try = 20\n",
    "inertias = []\n",
    "for clusters in range(1,num_clusters_to_try):\n",
    "  kmeans = KMeans(n_clusters=clusters).fit(X_pca)\n",
    "  inertias.append(kmeans.inertia_)\n",
    "\n",
    "plt.plot(np.arange(1, num_clusters_to_try), inertias)"
   ]
  },
  {
   "cell_type": "code",
   "execution_count": null,
   "metadata": {
    "collapsed": true,
    "id": "ujXetTSuH3nN"
   },
   "outputs": [],
   "source": [
    "# K-Means\n",
    "kmeans = KMeans(n_clusters=4, random_state=1).fit(X_pca)\n",
    "labels = kmeans.predict(X_pca)\n",
    "\n",
    "plt.scatter(X_pca[:,0], X_pca[:,1], c=labels)"
   ]
  }
 ],
 "metadata": {
  "colab": {
   "provenance": []
  },
  "kernelspec": {
   "display_name": "Python 3",
   "language": "python",
   "name": "python3"
  },
  "language_info": {
   "codemirror_mode": {
    "name": "ipython",
    "version": 3
   },
   "file_extension": ".py",
   "mimetype": "text/x-python",
   "name": "python",
   "nbconvert_exporter": "python",
   "pygments_lexer": "ipython3",
   "version": "3.6.3"
  },
  "varInspector": {
   "cols": {
    "lenName": 16,
    "lenType": 16,
    "lenVar": 40
   },
   "kernels_config": {
    "python": {
     "delete_cmd_postfix": "",
     "delete_cmd_prefix": "del ",
     "library": "var_list.py",
     "varRefreshCmd": "print(var_dic_list())"
    },
    "r": {
     "delete_cmd_postfix": ") ",
     "delete_cmd_prefix": "rm(",
     "library": "var_list.r",
     "varRefreshCmd": "cat(var_dic_list()) "
    }
   },
   "types_to_exclude": [
    "module",
    "function",
    "builtin_function_or_method",
    "instance",
    "_Feature"
   ],
   "window_display": false
  }
 },
 "nbformat": 4,
 "nbformat_minor": 1
}
